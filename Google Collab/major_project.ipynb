{
  "nbformat": 4,
  "nbformat_minor": 0,
  "metadata": {
    "colab": {
      "provenance": []
    },
    "kernelspec": {
      "name": "python3",
      "display_name": "Python 3"
    },
    "language_info": {
      "name": "python"
    }
  },
  "cells": [
    {
      "cell_type": "code",
      "source": [
        "import pandas as pd\n",
        "import json\n",
        "import matplotlib.pyplot as plt\n",
        "import seaborn as sns\n",
        "import os\n",
        "from sklearn.model_selection import train_test_split\n",
        "from sklearn.linear_model import LinearRegression\n",
        "from sklearn.metrics import mean_absolute_error, mean_squared_error\n",
        "import joblib\n",
        "\n",
        "# Create directory for saving plots\n",
        "os.makedirs(\"plots\", exist_ok=True)\n",
        "\n",
        "# Load JSON data\n",
        "with open('/content/sensor-data (2).json', 'r') as file:\n",
        "    data = json.load(file)\n",
        "\n",
        "df = pd.DataFrame(data)\n",
        "\n",
        "# Convert timestamp to datetime\n",
        "df['timestamp'] = pd.to_datetime(df['timestamp'])\n",
        "\n",
        "# Save summary report\n",
        "report_content = \"Data Overview:\\n\" + str(df.describe())\n",
        "with open(\"report.txt\", \"w\") as report_file:\n",
        "    report_file.write(report_content)\n",
        "\n",
        "# Function to save plots\n",
        "def save_plot(filename):\n",
        "    plt.savefig(os.path.join(\"plots\", filename))\n",
        "    plt.close()\n",
        "\n",
        "# Temperature Trend\n",
        "plt.figure(figsize=(12, 6))\n",
        "sns.lineplot(data=df, x='timestamp', y='temperature', label='Temperature', color='red')\n",
        "plt.title(\"Temperature Trend Over Time\")\n",
        "plt.xlabel(\"Timestamp\")\n",
        "plt.ylabel(\"Temperature (°C)\")\n",
        "plt.xticks(rotation=45)\n",
        "plt.legend()\n",
        "plt.grid(True)\n",
        "save_plot(\"temperature_trend.png\")\n",
        "\n",
        "# Humidity Trend\n",
        "plt.figure(figsize=(12, 6))\n",
        "sns.lineplot(data=df, x='timestamp', y='humidity', label='Humidity', color='blue')\n",
        "plt.title(\"Humidity Trend Over Time\")\n",
        "plt.xlabel(\"Timestamp\")\n",
        "plt.ylabel(\"Humidity (%)\")\n",
        "plt.xticks(rotation=45)\n",
        "plt.legend()\n",
        "plt.grid(True)\n",
        "save_plot(\"humidity_trend.png\")\n",
        "\n",
        "# Correlation Matrix\n",
        "plt.figure(figsize=(8, 6))\n",
        "corr = df[['temperature', 'humidity', 'sound', 'gas', 'flame']].corr()\n",
        "sns.heatmap(corr, annot=True, cmap='coolwarm', fmt=\".2f\")\n",
        "plt.title(\"Correlation Matrix Between Features\")\n",
        "save_plot(\"correlation_matrix.png\")\n",
        "\n",
        "# Linear Regression Model\n",
        "features = ['humidity', 'sound', 'gas', 'flame']\n",
        "X = df[features]\n",
        "y = df['temperature']\n",
        "X_train, X_test, y_train, y_test = train_test_split(X, y, test_size=0.2, random_state=42)\n",
        "\n",
        "model = LinearRegression()\n",
        "model.fit(X_train, y_train)\n",
        "y_pred = model.predict(X_test)\n",
        "\n",
        "# Save the model\n",
        "joblib.dump(model, \"temperature_model.pkl\")\n",
        "\n",
        "# Model Evaluation\n",
        "mae = mean_absolute_error(y_test, y_pred)\n",
        "mse = mean_squared_error(y_test, y_pred)\n",
        "rmse = mse ** 0.5\n",
        "\n",
        "with open(\"report.txt\", \"a\") as report_file:\n",
        "    report_file.write(f\"\\nModel Evaluation:\\nMAE: {mae}\\nMSE: {mse}\\nRMSE: {rmse}\")\n",
        "\n",
        "print(\"All images saved in 'plots/' directory. Report generated as 'report.txt'. Model saved as 'temperature_model.pkl'.\")\n"
      ],
      "metadata": {
        "colab": {
          "base_uri": "https://localhost:8080/"
        },
        "id": "sQEjYIesQ2Ru",
        "outputId": "0cf43655-f817-4482-bc34-ac414eee397b"
      },
      "execution_count": null,
      "outputs": [
        {
          "output_type": "stream",
          "name": "stdout",
          "text": [
            "All images saved in 'plots/' directory. Report generated as 'report.txt'. Model saved as 'temperature_model.pkl'.\n"
          ]
        }
      ]
    }
  ]
}